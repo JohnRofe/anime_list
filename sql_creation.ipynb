{
 "cells": [
  {
   "cell_type": "code",
   "execution_count": 1,
   "metadata": {},
   "outputs": [
    {
     "data": {
      "text/plain": [
       "<sqlite3.Cursor at 0x181989604c0>"
      ]
     },
     "execution_count": 1,
     "metadata": {},
     "output_type": "execute_result"
    }
   ],
   "source": [
    "#Creation of a sqlite database for the project\n",
    "#Library\n",
    "import sqlite3\n",
    "#Creation of the database\n",
    "conn = sqlite3.connect('anime_list.db')\n",
    "#Creation of the cursor (object that will execute the SQL commands)\n",
    "c = conn.cursor()\n",
    "\n",
    "# Create tables for foreign keys (type_tv and genre)\n",
    "\n",
    "c.execute('''\n",
    "    CREATE TABLE IF NOT EXISTS type_tv (\n",
    "        id INTEGER PRIMARY KEY,\n",
    "        type_name TEXT\n",
    "    )\n",
    "''')\n",
    "\n",
    "c.execute('''\n",
    "    CREATE TABLE IF NOT EXISTS genre (\n",
    "        id INTEGER PRIMARY KEY,\n",
    "        genre_name TEXT\n",
    "    )\n",
    "''')\n",
    "\n",
    "#Creation of the table anime\n",
    "\n",
    "c.execute('''\n",
    "    CREATE TABLE IF NOT EXISTS anime (\n",
    "        id INTEGER PRIMARY KEY,\n",
    "        title TEXT,\n",
    "        popularity INTEGER,\n",
    "        last_episode_number INTEGER,\n",
    "        normalized_rating REAL,\n",
    "        type_tv_id INTEGER,\n",
    "        genre_1_id INTEGER,\n",
    "        genre_2_id INTEGER,\n",
    "        genre_3_id INTEGER,\n",
    "        FOREIGN KEY (type_tv_id) REFERENCES type_tv(id),\n",
    "        FOREIGN KEY (genre_1_id) REFERENCES genre(id),\n",
    "        FOREIGN KEY (genre_2_id) REFERENCES genre(id),\n",
    "        FOREIGN KEY (genre_3_id) REFERENCES genre(id)\n",
    "    )\n",
    "''')\n",
    "\n"
   ]
  },
  {
   "cell_type": "code",
   "execution_count": 2,
   "metadata": {},
   "outputs": [],
   "source": [
    "conn.commit()\n",
    "conn.close()"
   ]
  },
  {
   "cell_type": "code",
   "execution_count": 3,
   "metadata": {},
   "outputs": [
    {
     "name": "stdout",
     "output_type": "stream",
     "text": [
      "Inserted 0 rows\n",
      "Inserted 500 rows\n",
      "Inserted 1000 rows\n",
      "Inserted 1500 rows\n",
      "Inserted 2000 rows\n",
      "Inserted 2500 rows\n",
      "Inserted 3000 rows\n",
      "Inserted 3500 rows\n",
      "Data insertion completed successfully\n"
     ]
    }
   ],
   "source": [
    "import pandas as pd\n",
    "import sqlite3\n",
    "\n",
    "conn = sqlite3.connect('anime_list.db')\n",
    "c = conn.cursor()\n",
    "\n",
    "df = pd.read_csv('anime_data_cleaned.csv')\n",
    "\n",
    "try:\n",
    "    # Insert data into type_tv and genre tables\n",
    "    c.executemany('INSERT INTO type_tv (type_name) VALUES (?)', [(i,) for i in df['type_tv'].unique()])\n",
    "\n",
    "    # Insert 'Unknown' genre if it doesn't already exist\n",
    "    c.execute(\"INSERT INTO genre (genre_name) SELECT 'Unknown' WHERE NOT EXISTS(SELECT 1 FROM genre WHERE genre_name = 'Unknown')\")\n",
    "\n",
    "    # Insert genres from dataframe\n",
    "    c.executemany('INSERT INTO genre (genre_name) VALUES (?)', [(i,) for i in pd.concat([df['genre_1'], df['genre_2'], df['genre_3']]).unique()])\n",
    "\n",
    "    # Get the ids for each type_tv and genre\n",
    "    type_tv_ids = pd.read_sql_query('SELECT * FROM type_tv', conn).set_index('type_name')['id'].to_dict()\n",
    "    genre_ids = pd.read_sql_query('SELECT * FROM genre', conn).set_index('genre_name')['id'].to_dict()\n",
    "\n",
    "    # Replace the type_tv and genre values in the dataframe with the corresponding ids\n",
    "    df['type_tv_id'] = df['type_tv'].map(type_tv_ids)\n",
    "    df['genre_1_id'] = df['genre_1'].map(genre_ids)\n",
    "    df['genre_2_id'] = df['genre_2'].map(genre_ids).fillna(genre_ids['Unknown'])  # replace missing values with the id for 'Unknown'\n",
    "    df['genre_3_id'] = df['genre_3'].map(genre_ids).fillna(genre_ids['Unknown'])  # replace missing values with the id for 'Unknown'\n",
    "\n",
    "    # Insert data into anime table\n",
    "    for i, row in df.iterrows():\n",
    "        c.execute('''\n",
    "            INSERT INTO anime (title, popularity, last_episode_number, normalized_rating, type_tv_id, genre_1_id, genre_2_id, genre_3_id)\n",
    "            VALUES (?, ?, ?, ?, ?, ?, ?, ?)\n",
    "        ''', (row['title'], row['popularity'], row['last_episode_number'], row['normalized_rating'], row['type_tv_id'], row['genre_1_id'], row['genre_2_id'], row['genre_3_id']))\n",
    "        \n",
    "        if i % 500 == 0:\n",
    "            print(f'Inserted {i} rows')\n",
    "\n",
    "    conn.commit()\n",
    "    print('Data insertion completed successfully')\n",
    "\n",
    "except Exception as e:\n",
    "    print('An error occurred:', e)\n",
    "\n",
    "finally:\n",
    "    conn.close()\n"
   ]
  }
 ],
 "metadata": {
  "kernelspec": {
   "display_name": "Python 3",
   "language": "python",
   "name": "python3"
  },
  "language_info": {
   "codemirror_mode": {
    "name": "ipython",
    "version": 3
   },
   "file_extension": ".py",
   "mimetype": "text/x-python",
   "name": "python",
   "nbconvert_exporter": "python",
   "pygments_lexer": "ipython3",
   "version": "3.11.3"
  }
 },
 "nbformat": 4,
 "nbformat_minor": 2
}
